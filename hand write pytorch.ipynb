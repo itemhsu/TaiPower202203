{
 "cells": [
  {
   "cell_type": "code",
   "execution_count": 119,
   "id": "e41a83d3",
   "metadata": {},
   "outputs": [],
   "source": [
    "from sklearn.datasets import load_digits\n",
    "from sklearn.metrics import accuracy_score\n",
    "import matplotlib.pyplot as plt\n",
    "import numpy as np\n",
    "import pandas as pd\n",
    "import torch.nn as nn\n",
    "import torch\n",
    "import torch.utils.data as Data\n",
    "from random import shuffle"
   ]
  },
  {
   "cell_type": "code",
   "execution_count": 120,
   "id": "7890dccc",
   "metadata": {},
   "outputs": [],
   "source": [
    "X, y = load_digits(return_X_y=True)\n",
    " # X.shape:(1797, 64)\n",
    " # y.shape:(1797,)\n",
    " # type : <class 'numpy.ndarray'>\n",
    "X = [x.reshape([1, 8, 8]).tolist() for x in X]\n",
    "# 原数据可能会把相近的类别放在一起，所以分割数据前最好要打乱\n",
    "choose_index = np.arange(1797)\n",
    "shuffle(choose_index)\n",
    "\n",
    " # 转换成tensor\n",
    "X_t = torch.tensor(X, dtype=torch.float32)\n",
    "y_t = torch.tensor(y, dtype=torch.int64)\n",
    "\n",
    " # 将数据和标签整合在一起\n",
    "train_data = Data.TensorDataset(X_t[choose_index[:1300]], y_t[choose_index[:1300]])\n",
    "test_data = Data.TensorDataset(X_t[choose_index[1300:]], y_t[choose_index[1300:]])\n",
    "\n",
    " # 构建数据加载器\n",
    "train_loader = Data.DataLoader(\n",
    "    dataset=train_data,\n",
    "    batch_size=64,\n",
    "    shuffle=True,\n",
    "    num_workers=0\n",
    ")\n",
    "\n",
    "test_loader = Data.DataLoader(\n",
    "    dataset=test_data,\n",
    "    batch_size=64,\n",
    "    shuffle=True,\n",
    "    num_workers=0\n",
    ")\n"
   ]
  },
  {
   "cell_type": "code",
   "execution_count": 121,
   "id": "6943b7df",
   "metadata": {},
   "outputs": [],
   "source": [
    "# 定义网络\n",
    "class CNNClassifier(nn.Module):\n",
    "    def __init__(self, input_channels, output_dim):\n",
    "        super(CNNClassifier, self).__init__()\n",
    "        self.conv = nn.Sequential(\n",
    "            nn.Conv2d(in_channels=input_channels,\n",
    "                      out_channels=16,\n",
    "                      kernel_size=3,\n",
    "                      stride=1,\n",
    "                      padding=1),               # [B, 16, 8, 8]\n",
    "            nn.ReLU(),\n",
    "            nn.Conv2d(16, 32, 3, 2, 1),    # [B, 32, 4, 4]\n",
    "            nn.ReLU(),\n",
    "            nn.Conv2d(32, 16, 3, 2, 1),    # [B, 16, 2, 2]\n",
    "            nn.ReLU(),\n",
    "            nn.Conv2d(16, 8, 3, 1, 1)       # [B, 8, 2, 2]\n",
    "        )\n",
    "        self.output = nn.Linear(32, 10)\n",
    "    def forward(self, x):\n",
    "        out = self.conv(x)\n",
    "         # out : [B, 8, 2, 2]\n",
    "        out = self.output(out.flatten(start_dim=1))\n",
    "        out = nn.functional.softmax(out, dim=1)\n",
    "        return out\n"
   ]
  },
  {
   "cell_type": "code",
   "execution_count": 122,
   "id": "71bb6966",
   "metadata": {},
   "outputs": [],
   "source": [
    "net = CNNClassifier(input_channels=1, output_dim=10)"
   ]
  },
  {
   "cell_type": "code",
   "execution_count": 123,
   "id": "115e9ea3",
   "metadata": {},
   "outputs": [],
   "source": [
    " # 网络实例化\n",
    "#net = LinearLayerClassifier(input_dim=64, output_dim=10)\n",
    " # 获取优化器\n",
    "optimizer = torch.optim.RMSprop(net.parameters(), lr=0.001)\n",
    " # 获取损失函数\n",
    "loss_func = nn.CrossEntropyLoss(reduction=\"mean\")\n",
    " # 记录损失\n",
    "train_loss, train_acc = [], []\n",
    "test_loss, test_acc = [], []"
   ]
  },
  {
   "cell_type": "code",
   "execution_count": 124,
   "id": "6ab52158",
   "metadata": {},
   "outputs": [
    {
     "name": "stdout",
     "output_type": "stream",
     "text": [
      "[0.7661033163265306, 0.8577407525510203, 0.9116709183673469, 0.9475845025510203, 0.9577885841836735, 0.9630500637755102, 0.8696189413265306, 0.9583864795918368, 0.9143813775510203, 0.9636479591836735, 0.9118303571428572, 0.9486208545918368, 0.9456313775510203, 0.9591438137755102, 0.9585459183673469, 0.9610969387755102, 0.9689094387755102, 0.9190449617346939, 0.9753667091836735, 0.970703125, 0.9765625, 0.9753667091836735, 0.9759646045918368, 0.9779177295918368, 0.9779177295918368, 0.9759646045918368, 0.9741709183673469, 0.9765625, 0.978515625, 0.9798708545918368, 0.9681521045918368, 0.9474250637755102, 0.9779177295918368, 0.984375, 0.9779177295918368, 0.9818239795918368, 0.9831792091836735, 0.984375, 0.9857302295918368, 0.984375]\n"
     ]
    },
    {
     "data": {
      "image/png": "[encoded data removed]",
      "text/plain": [
       "<Figure size 432x288 with 1 Axes>"
      ]
     },
     "metadata": {
      "needs_background": "light"
     },
     "output_type": "display_data"
    }
   ],
   "source": [
    "# 开始训练\n",
    "for epoch in range(40):\n",
    "     # 遍历生成器\n",
    "    net.train()\n",
    "    epoch_loss, epoch_acc = [], []  # 记录当前epoch的loss和accuracy\n",
    "    for batch in train_loader:\n",
    "        data, label = batch\n",
    "         # 前向传播\n",
    "        output = net(data)\n",
    "         # 预测标签\n",
    "        predict_label = torch.argmax(output, dim=1)\n",
    "         # 计算损失\n",
    "        loss = loss_func(output, label)\n",
    "         # 梯度清空\n",
    "        optimizer.zero_grad()\n",
    "         # 反向传播\n",
    "        loss.backward()\n",
    "         # 更新参数\n",
    "        optimizer.step()\n",
    "\n",
    "         # 记录训练结果\n",
    "        epoch_loss.append(loss.item())\n",
    "        epoch_acc.append(accuracy_score(predict_label, label))\n",
    "\n",
    "    train_loss.append(np.mean(epoch_loss))\n",
    "    train_acc.append(np.mean(epoch_acc))\n",
    "\n",
    "     # 遍历测试集\n",
    "    net.eval()\n",
    "    epoch_loss, epoch_acc = [], []\n",
    "    for batch in test_loader:\n",
    "        data, label = batch\n",
    "        output = net(data)\n",
    "        predict_label = torch.argmax(output, dim=1)\n",
    "        loss = loss_func(output, label)\n",
    "        epoch_loss.append(loss.item())\n",
    "        epoch_acc.append(accuracy_score(predict_label, label))\n",
    "\n",
    "    test_loss.append(np.mean(epoch_loss))\n",
    "    test_acc.append(np.mean(epoch_acc))\n",
    "\n",
    " # 可视化数据\n",
    "print(test_acc)\n",
    "label_name = [\"train_loss\", \"test_loss\", \"train_acc\", \"test_acc\"]\n",
    "for index, name in enumerate([train_loss, test_loss, train_acc, test_acc]):\n",
    "    plt.plot(name, \"o-\", label=label_name[index])\n",
    "\n",
    "plt.legend()\n",
    "plt.grid(True)\n",
    "plt.show()\n"
   ]
  },
  {
   "cell_type": "code",
   "execution_count": null,
   "id": "bcf40d20",
   "metadata": {},
   "outputs": [],
   "source": []
  }
 ],
 "metadata": {
  "kernelspec": {
   "display_name": "Python 3 (ipykernel)",
   "language": "python",
   "name": "python3"
  },
  "language_info": {
   "codemirror_mode": {
    "name": "ipython",
    "version": 3
   },
   "file_extension": ".py",
   "mimetype": "text/x-python",
   "name": "python",
   "nbconvert_exporter": "python",
   "pygments_lexer": "ipython3",
   "version": "3.9.10"
  }
 },
 "nbformat": 4,
 "nbformat_minor": 5
}
